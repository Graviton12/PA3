{
 "cells": [
  {
   "cell_type": "markdown",
   "id": "bcef0bd7",
   "metadata": {},
   "source": [
    "# Assignment 3: Working with Lists and Tuples, Samia Mahmood, Version 1, Spring 2023"
   ]
  },
  {
   "cell_type": "markdown",
   "id": "4927caf1",
   "metadata": {},
   "source": [
    "### a) Built in Functions for Lists"
   ]
  },
  {
   "cell_type": "markdown",
   "id": "236f60ae",
   "metadata": {},
   "source": [
    "#### append() - this function adds elements to the end of the list"
   ]
  },
  {
   "cell_type": "markdown",
   "id": "ff627820",
   "metadata": {},
   "source": [
    "* example 1"
   ]
  },
  {
   "cell_type": "code",
   "execution_count": 1,
   "id": "775adef3",
   "metadata": {},
   "outputs": [
    {
     "data": {
      "text/plain": [
       "['rose', 'tulip', 'sunflower', 'poppy', 'daisy', 'orchid']"
      ]
     },
     "execution_count": 1,
     "metadata": {},
     "output_type": "execute_result"
    }
   ],
   "source": [
    "#start with empty list\n",
    "flowers=[]\n",
    "#use append to add elements into end of list\n",
    "flowers.append('rose')\n",
    "flowers.append('tulip')\n",
    "flowers.append('sunflower')\n",
    "flowers.append('poppy')\n",
    "flowers.append('daisy')\n",
    "flowers.append('orchid')\n",
    "#call flowers list\n",
    "flowers"
   ]
  },
  {
   "cell_type": "markdown",
   "id": "5cb5e3e5",
   "metadata": {},
   "source": [
    "* example 2"
   ]
  },
  {
   "cell_type": "code",
   "execution_count": 2,
   "id": "c063a54c",
   "metadata": {},
   "outputs": [
    {
     "data": {
      "text/plain": [
       "['math', 'physics', 'programming']"
      ]
     },
     "execution_count": 2,
     "metadata": {},
     "output_type": "execute_result"
    }
   ],
   "source": [
    "#start with list with elements\n",
    "favorite_subject=['math','physics','programming']\n",
    "#call favorite subject list\n",
    "favorite_subject"
   ]
  },
  {
   "cell_type": "code",
   "execution_count": 3,
   "id": "de54fc3d",
   "metadata": {},
   "outputs": [
    {
     "data": {
      "text/plain": [
       "['math', 'physics', 'programming', 'english', 'art']"
      ]
     },
     "execution_count": 3,
     "metadata": {},
     "output_type": "execute_result"
    }
   ],
   "source": [
    "#use append to add more subjects to list\n",
    "favorite_subject.append('english')\n",
    "favorite_subject.append('art')\n",
    "#call favorite subject list\n",
    "favorite_subject"
   ]
  },
  {
   "cell_type": "code",
   "execution_count": 4,
   "id": "687a1a6f",
   "metadata": {},
   "outputs": [
    {
     "name": "stdout",
     "output_type": "stream",
     "text": [
      "My favorite subjects are math and physics and programming\n"
     ]
    }
   ],
   "source": [
    "#print a message\n",
    "print(\"My favorite subjects are\", favorite_subject[0], \"and\", favorite_subject[1], \"and\", favorite_subject[2])"
   ]
  },
  {
   "cell_type": "markdown",
   "id": "31907daa",
   "metadata": {},
   "source": [
    "#### extend() - this function can add multiple elements at once to the end of a list"
   ]
  },
  {
   "cell_type": "markdown",
   "id": "0f0f5c84",
   "metadata": {},
   "source": [
    "* example 1"
   ]
  },
  {
   "cell_type": "code",
   "execution_count": 9,
   "id": "52044747",
   "metadata": {},
   "outputs": [
    {
     "data": {
      "text/plain": [
       "['apple', 'orange', 'peach']"
      ]
     },
     "execution_count": 9,
     "metadata": {},
     "output_type": "execute_result"
    }
   ],
   "source": [
    "#create list\n",
    "fruits=['apple','orange','peach']\n",
    "fruits"
   ]
  },
  {
   "cell_type": "code",
   "execution_count": 10,
   "id": "caa57c50",
   "metadata": {},
   "outputs": [
    {
     "data": {
      "text/plain": [
       "['apple', 'orange', 'peach', 'banana', 'strawberry', 'cherry']"
      ]
     },
     "execution_count": 10,
     "metadata": {},
     "output_type": "execute_result"
    }
   ],
   "source": [
    "#use extend to add multiple elemnts to the end of the list\n",
    "fruits.extend(['banana','strawberry','cherry'])\n",
    "fruits"
   ]
  },
  {
   "cell_type": "markdown",
   "id": "4b118cb9",
   "metadata": {},
   "source": [
    "#### insert() - this function inserts an element into a list at a specifc index"
   ]
  },
  {
   "cell_type": "markdown",
   "id": "1fa4896e",
   "metadata": {},
   "source": [
    "* example 1"
   ]
  },
  {
   "cell_type": "code",
   "execution_count": 5,
   "id": "83beeb24",
   "metadata": {},
   "outputs": [
    {
     "data": {
      "text/plain": [
       "['Zack', 'Eric', 'Mia', 'Ella', 'Carmen', 'Rohan', 'Taylor']"
      ]
     },
     "execution_count": 5,
     "metadata": {},
     "output_type": "execute_result"
    }
   ],
   "source": [
    "#create list for name\n",
    "name=['Zack','Eric','Mia','Ella','Carmen','Rohan','Taylor']\n",
    "name"
   ]
  },
  {
   "cell_type": "code",
   "execution_count": 6,
   "id": "a285bc0c",
   "metadata": {},
   "outputs": [
    {
     "data": {
      "text/plain": [
       "[21, 12, 43, 67, 89, 99, 10]"
      ]
     },
     "execution_count": 6,
     "metadata": {},
     "output_type": "execute_result"
    }
   ],
   "source": [
    "#create list for age\n",
    "age=[21,12,43,67,89,99,10]\n",
    "age"
   ]
  },
  {
   "cell_type": "code",
   "execution_count": 7,
   "id": "d9728cc4",
   "metadata": {},
   "outputs": [
    {
     "data": {
      "text/plain": [
       "['Josh', 'Zack', 'Eric', 'Mia', 'Stacy', 'Ella', 'Carmen', 'Rohan', 'Taylor']"
      ]
     },
     "execution_count": 7,
     "metadata": {},
     "output_type": "execute_result"
    }
   ],
   "source": [
    "#use insert to add a new person in front of list, a new person in middle of list\n",
    "name.insert(0,'Josh')\n",
    "name.insert(4,'Stacy')\n",
    "name"
   ]
  },
  {
   "cell_type": "code",
   "execution_count": 8,
   "id": "c78f6888",
   "metadata": {},
   "outputs": [
    {
     "data": {
      "text/plain": [
       "[40, 21, 12, 43, 77, 67, 89, 99, 10]"
      ]
     },
     "execution_count": 8,
     "metadata": {},
     "output_type": "execute_result"
    }
   ],
   "source": [
    "#use insert to add a new age in front of list, a new age in middle of list\n",
    "age.insert(0, 40)\n",
    "age.insert(4, 77)\n",
    "age"
   ]
  },
  {
   "cell_type": "code",
   "execution_count": 9,
   "id": "9a727b9e",
   "metadata": {},
   "outputs": [
    {
     "name": "stdout",
     "output_type": "stream",
     "text": [
      "Hello! this is Eric and he is 12 years old. Here is his grandmother Carmen who is 89\n"
     ]
    }
   ],
   "source": [
    "#introduce two people in a sentence\n",
    "print(\"Hello! this is\", name[2], \"and he is\", age[2], \"years old. Here is his grandmother\", name[-3], \"who is\", age[-3])"
   ]
  },
  {
   "cell_type": "markdown",
   "id": "dec92ff3",
   "metadata": {},
   "source": [
    "#### remove() this function removes an element from a list by its name"
   ]
  },
  {
   "cell_type": "markdown",
   "id": "aa0611bf",
   "metadata": {},
   "source": [
    "* example 1"
   ]
  },
  {
   "cell_type": "code",
   "execution_count": 10,
   "id": "6d9f96cf",
   "metadata": {},
   "outputs": [
    {
     "data": {
      "text/plain": [
       "['Josh', 'Zack', 'Eric', 'Mia', 'Stacy', 'Ella', 'Carmen', 'Rohan', 'Taylor']"
      ]
     },
     "execution_count": 10,
     "metadata": {},
     "output_type": "execute_result"
    }
   ],
   "source": [
    "#Use the name list from earlier for this example\n",
    "name"
   ]
  },
  {
   "cell_type": "code",
   "execution_count": 11,
   "id": "664b05e1",
   "metadata": {},
   "outputs": [
    {
     "data": {
      "text/plain": [
       "['Josh', 'Zack', 'Eric', 'Mia', 'Ella', 'Carmen', 'Rohan', 'Taylor']"
      ]
     },
     "execution_count": 11,
     "metadata": {},
     "output_type": "execute_result"
    }
   ],
   "source": [
    "#remove Stacy from list\n",
    "name.remove('Stacy')\n",
    "name"
   ]
  },
  {
   "cell_type": "code",
   "execution_count": 12,
   "id": "f7e89145",
   "metadata": {},
   "outputs": [
    {
     "data": {
      "text/plain": [
       "['Josh', 'Zack', 'Eric', 'Mia', 'Carmen', 'Rohan', 'Taylor']"
      ]
     },
     "execution_count": 12,
     "metadata": {},
     "output_type": "execute_result"
    }
   ],
   "source": [
    "#remove ELla from list \n",
    "name.remove('Ella')\n",
    "name"
   ]
  },
  {
   "cell_type": "markdown",
   "id": "a6ede42d",
   "metadata": {},
   "source": [
    "#### count() - this function is sued to return the number of times a specific element has been used in a list"
   ]
  },
  {
   "cell_type": "markdown",
   "id": "d05b6752",
   "metadata": {},
   "source": [
    "* example 1"
   ]
  },
  {
   "cell_type": "code",
   "execution_count": 11,
   "id": "4343cfde",
   "metadata": {},
   "outputs": [
    {
     "data": {
      "text/plain": [
       "[22, 33, 1, 22, 43, 55, 43, 22, 54, 78, 60, 60, 43, 43, 67, 43]"
      ]
     },
     "execution_count": 11,
     "metadata": {},
     "output_type": "execute_result"
    }
   ],
   "source": [
    "#create an integer list\n",
    "number1=[22,33,1,22,43,55,43,22,54,78,60,60,43,43,67,43]\n",
    "number1"
   ]
  },
  {
   "cell_type": "code",
   "execution_count": 14,
   "id": "6a41acb7",
   "metadata": {},
   "outputs": [
    {
     "data": {
      "text/plain": [
       "5"
      ]
     },
     "execution_count": 14,
     "metadata": {},
     "output_type": "execute_result"
    }
   ],
   "source": [
    "#use count function to count and show how many times 43 shows up in list\n",
    "number1.count(43)\n",
    "#the output will be 5 since the number 43 shows up five times in the list"
   ]
  },
  {
   "cell_type": "code",
   "execution_count": 16,
   "id": "4639efe0",
   "metadata": {},
   "outputs": [
    {
     "data": {
      "text/plain": [
       "3"
      ]
     },
     "execution_count": 16,
     "metadata": {},
     "output_type": "execute_result"
    }
   ],
   "source": [
    "#use count function to count and show how many times 22 shows up in list\n",
    "number1.count(22)\n",
    "#the output will be 3 since the number 22 shows up three times in the list"
   ]
  },
  {
   "cell_type": "markdown",
   "id": "f90c287c",
   "metadata": {},
   "source": [
    "* example 2"
   ]
  },
  {
   "cell_type": "code",
   "execution_count": 18,
   "id": "b4f6f623",
   "metadata": {},
   "outputs": [
    {
     "data": {
      "text/plain": [
       "5"
      ]
     },
     "execution_count": 18,
     "metadata": {},
     "output_type": "execute_result"
    }
   ],
   "source": [
    "#create a string list and use count to find how many times \"sarah\" is used within the list\n",
    "friends=['becky','sally','noah','sally','grace','sally','trevor','mark','sally','sally']\n",
    "#the output will be 5\n",
    "friends.count('sally')"
   ]
  },
  {
   "cell_type": "markdown",
   "id": "85f6f5a2",
   "metadata": {},
   "source": [
    "#### index() - this function will show the index of a specific element within a list"
   ]
  },
  {
   "cell_type": "markdown",
   "id": "12c7fd9f",
   "metadata": {},
   "source": [
    "* example 1"
   ]
  },
  {
   "cell_type": "code",
   "execution_count": 19,
   "id": "122f005f",
   "metadata": {},
   "outputs": [
    {
     "data": {
      "text/plain": [
       "['apple', 'orange', 'peach', 'banana', 'strawberry', 'cherry']"
      ]
     },
     "execution_count": 19,
     "metadata": {},
     "output_type": "execute_result"
    }
   ],
   "source": [
    "#use the fruits list from earlier\n",
    "fruits"
   ]
  },
  {
   "cell_type": "code",
   "execution_count": 21,
   "id": "4d398252",
   "metadata": {},
   "outputs": [
    {
     "data": {
      "text/plain": [
       "2"
      ]
     },
     "execution_count": 21,
     "metadata": {},
     "output_type": "execute_result"
    }
   ],
   "source": [
    "#use index function to identify the index of peach within the list\n",
    "fruits.index('peach')\n",
    "#output should be 2 since its index position is 2"
   ]
  },
  {
   "cell_type": "markdown",
   "id": "84eb7e7b",
   "metadata": {},
   "source": [
    "#### pop() - this function pops off an element from the list by its specific index"
   ]
  },
  {
   "cell_type": "markdown",
   "id": "4c41adcf",
   "metadata": {},
   "source": [
    "* example 1"
   ]
  },
  {
   "cell_type": "code",
   "execution_count": 13,
   "id": "1107ec83",
   "metadata": {},
   "outputs": [
    {
     "data": {
      "text/plain": [
       "['pizza',\n",
       " 'biriyani',\n",
       " 'chicken alfredo',\n",
       " 'salmon',\n",
       " 'chicken tanduri',\n",
       " 'mac and cheese',\n",
       " 'burrito']"
      ]
     },
     "execution_count": 13,
     "metadata": {},
     "output_type": "execute_result"
    }
   ],
   "source": [
    "#create list of favorite food, this is the original list\n",
    "fav_food=['pizza','biriyani','chicken alfredo','salmon','chicken tanduri','mac and cheese','burrito']\n",
    "fav_food"
   ]
  },
  {
   "cell_type": "code",
   "execution_count": 14,
   "id": "47719fdb",
   "metadata": {},
   "outputs": [
    {
     "data": {
      "text/plain": [
       "['biriyani',\n",
       " 'chicken alfredo',\n",
       " 'salmon',\n",
       " 'chicken tanduri',\n",
       " 'mac and cheese',\n",
       " 'burrito']"
      ]
     },
     "execution_count": 14,
     "metadata": {},
     "output_type": "execute_result"
    }
   ],
   "source": [
    "#remove the first element from the original list, this is done by assigning it to a variable\n",
    "removed1=fav_food.pop(0)\n",
    "fav_food"
   ]
  },
  {
   "cell_type": "code",
   "execution_count": 15,
   "id": "bc71d31b",
   "metadata": {},
   "outputs": [
    {
     "data": {
      "text/plain": [
       "['biriyani', 'chicken alfredo', 'salmon', 'chicken tanduri', 'burrito']"
      ]
     },
     "execution_count": 15,
     "metadata": {},
     "output_type": "execute_result"
    }
   ],
   "source": [
    "#remove mac and cheese from the current list, this is not assigned to a variable\n",
    "fav_food.pop(4)\n",
    "fav_food"
   ]
  },
  {
   "cell_type": "code",
   "execution_count": 16,
   "id": "04dfc8cc",
   "metadata": {},
   "outputs": [
    {
     "data": {
      "text/plain": [
       "['biriyani', 'chicken alfredo', 'salmon', 'chicken tanduri']"
      ]
     },
     "execution_count": 16,
     "metadata": {},
     "output_type": "execute_result"
    }
   ],
   "source": [
    "#remove the last element from the current list\n",
    "#Using .pop() without using an index will pop off the element from the right side of list\n",
    "removed3=fav_food.pop()\n",
    "fav_food"
   ]
  },
  {
   "cell_type": "code",
   "execution_count": 17,
   "id": "ef746040",
   "metadata": {},
   "outputs": [
    {
     "name": "stdout",
     "output_type": "stream",
     "text": [
      "The element that popped off first is pizza\n",
      "The element that popped off last is burrito\n"
     ]
    }
   ],
   "source": [
    "#print a messsage\n",
    "print(\"The element that popped off first is\", removed1)\n",
    "print(\"The element that popped off last is\", removed3)"
   ]
  },
  {
   "cell_type": "markdown",
   "id": "f5294e14",
   "metadata": {},
   "source": [
    "#### sorted() - this function temporarily sorts a list"
   ]
  },
  {
   "cell_type": "markdown",
   "id": "2bea2749",
   "metadata": {},
   "source": [
    "* example 1"
   ]
  },
  {
   "cell_type": "code",
   "execution_count": 18,
   "id": "86a98ed1",
   "metadata": {},
   "outputs": [
    {
     "data": {
      "text/plain": [
       "[3, 45, 99, 15, 67, 95, 33, 21, 57]"
      ]
     },
     "execution_count": 18,
     "metadata": {},
     "output_type": "execute_result"
    }
   ],
   "source": [
    "#create a list\n",
    "odd_numbers=[3,45,99,15,67,95,33,21,57]\n",
    "odd_numbers"
   ]
  },
  {
   "cell_type": "code",
   "execution_count": 19,
   "id": "c4b02fef",
   "metadata": {},
   "outputs": [
    {
     "data": {
      "text/plain": [
       "[3, 15, 21, 33, 45, 57, 67, 95, 99]"
      ]
     },
     "execution_count": 19,
     "metadata": {},
     "output_type": "execute_result"
    }
   ],
   "source": [
    "#use sorted function to sort list temporarily\n",
    "sorted(odd_numbers)"
   ]
  },
  {
   "cell_type": "code",
   "execution_count": 20,
   "id": "9bab2b65",
   "metadata": {},
   "outputs": [
    {
     "data": {
      "text/plain": [
       "[3, 45, 99, 15, 67, 95, 33, 21, 57]"
      ]
     },
     "execution_count": 20,
     "metadata": {},
     "output_type": "execute_result"
    }
   ],
   "source": [
    "#call list again, it will be back to its original order\n",
    "odd_numbers"
   ]
  },
  {
   "cell_type": "markdown",
   "id": "0461b240",
   "metadata": {},
   "source": [
    "* example 2"
   ]
  },
  {
   "cell_type": "code",
   "execution_count": 21,
   "id": "751b01cc",
   "metadata": {},
   "outputs": [
    {
     "data": {
      "text/plain": [
       "[3, 15, 21, 33, 45, 57, 67, 95, 99]"
      ]
     },
     "execution_count": 21,
     "metadata": {},
     "output_type": "execute_result"
    }
   ],
   "source": [
    "#to permanently sort list, use sort function\n",
    "odd_numbers.sort()\n",
    "odd_numbers"
   ]
  },
  {
   "cell_type": "code",
   "execution_count": 22,
   "id": "a3261b01",
   "metadata": {},
   "outputs": [
    {
     "data": {
      "text/plain": [
       "[3, 15, 21, 33, 45, 57, 67, 95, 99]"
      ]
     },
     "execution_count": 22,
     "metadata": {},
     "output_type": "execute_result"
    }
   ],
   "source": [
    "#call list again, it will remain sorted\n",
    "odd_numbers"
   ]
  },
  {
   "cell_type": "markdown",
   "id": "2c9c2a2e",
   "metadata": {},
   "source": [
    "#### copy() - this function is used to create a replica of a list without altering or changing the original list"
   ]
  },
  {
   "cell_type": "markdown",
   "id": "aee2d32f",
   "metadata": {},
   "source": [
    "* example 1"
   ]
  },
  {
   "cell_type": "code",
   "execution_count": 4,
   "id": "61c8410c",
   "metadata": {},
   "outputs": [
    {
     "data": {
      "text/plain": [
       "['pumpkin', 'tomato', 'potato', 'onion', 'carrot']"
      ]
     },
     "execution_count": 4,
     "metadata": {},
     "output_type": "execute_result"
    }
   ],
   "source": [
    "#create a list\n",
    "original=['pumpkin','tomato','potato','onion','carrot']\n",
    "original"
   ]
  },
  {
   "cell_type": "code",
   "execution_count": 6,
   "id": "34b92215",
   "metadata": {},
   "outputs": [
    {
     "data": {
      "text/plain": [
       "['pumpkin', 'tomato', 'potato', 'onion', 'carrot']"
      ]
     },
     "execution_count": 6,
     "metadata": {},
     "output_type": "execute_result"
    }
   ],
   "source": [
    "#copy the list by furst assigning it to a variable then calling the variable\n",
    "copy=original.copy()\n",
    "copy"
   ]
  },
  {
   "cell_type": "code",
   "execution_count": 8,
   "id": "8731b512",
   "metadata": {},
   "outputs": [
    {
     "name": "stdout",
     "output_type": "stream",
     "text": [
      "the original list is: ['pumpkin', 'tomato', 'potato', 'onion', 'carrot']\n",
      "the new list is: ['pumpkin', 'tomato', 'potato', 'onion', 'carrot']\n"
     ]
    }
   ],
   "source": [
    "#write a message displaying both lists\n",
    "print('the original list is:', original)\n",
    "print('the new list is:', copy)"
   ]
  },
  {
   "cell_type": "markdown",
   "id": "bbd25ff7",
   "metadata": {},
   "source": [
    "#### clear() - this function clears the elemnts from an existing list and creates an empty list"
   ]
  },
  {
   "cell_type": "markdown",
   "id": "235c78f4",
   "metadata": {},
   "source": [
    "* example 1"
   ]
  },
  {
   "cell_type": "code",
   "execution_count": 1,
   "id": "0cced7d6",
   "metadata": {},
   "outputs": [
    {
     "data": {
      "text/plain": [
       "[23, 54, 78, 65, 34, 23, 86, 44, 55]"
      ]
     },
     "execution_count": 1,
     "metadata": {},
     "output_type": "execute_result"
    }
   ],
   "source": [
    "#create a list\n",
    "list1=[23,54,78,65,34,23,86,44,55,]\n",
    "list1"
   ]
  },
  {
   "cell_type": "code",
   "execution_count": 3,
   "id": "8a3933a3",
   "metadata": {},
   "outputs": [
    {
     "data": {
      "text/plain": [
       "[]"
      ]
     },
     "execution_count": 3,
     "metadata": {},
     "output_type": "execute_result"
    }
   ],
   "source": [
    "#use clear function to create an empty list\n",
    "list1.clear()\n",
    "list1"
   ]
  },
  {
   "cell_type": "markdown",
   "id": "77f625af",
   "metadata": {},
   "source": [
    "#### list() - this function creates a list with elements that can be iterated"
   ]
  },
  {
   "cell_type": "markdown",
   "id": "133b946a",
   "metadata": {},
   "source": [
    "* example 1"
   ]
  },
  {
   "cell_type": "code",
   "execution_count": 23,
   "id": "fce86e4f",
   "metadata": {},
   "outputs": [
    {
     "name": "stdout",
     "output_type": "stream",
     "text": [
      "Hello\n"
     ]
    }
   ],
   "source": [
    "#create a variable with a message\n",
    "message=\"Hello\"\n",
    "print(message)"
   ]
  },
  {
   "cell_type": "code",
   "execution_count": 24,
   "id": "dc23b4d5",
   "metadata": {},
   "outputs": [
    {
     "data": {
      "text/plain": [
       "['H', 'e', 'l', 'l', 'o']"
      ]
     },
     "execution_count": 24,
     "metadata": {},
     "output_type": "execute_result"
    }
   ],
   "source": [
    "#make it into a list\n",
    "converted_list=list(message)\n",
    "converted_list"
   ]
  },
  {
   "cell_type": "markdown",
   "id": "1de4bf29",
   "metadata": {},
   "source": [
    "### b) Built in Functions for Tuples"
   ]
  },
  {
   "cell_type": "markdown",
   "id": "faf23421",
   "metadata": {},
   "source": [
    "#### len() - this function tells you the length of your list and string"
   ]
  },
  {
   "cell_type": "code",
   "execution_count": 25,
   "id": "abbec653",
   "metadata": {},
   "outputs": [
    {
     "data": {
      "text/plain": [
       "5"
      ]
     },
     "execution_count": 25,
     "metadata": {},
     "output_type": "execute_result"
    }
   ],
   "source": [
    "# tells us the length of our message list from earlier\n",
    "len(message)"
   ]
  },
  {
   "cell_type": "code",
   "execution_count": 26,
   "id": "2004f2e9",
   "metadata": {},
   "outputs": [
    {
     "data": {
      "text/plain": [
       "9"
      ]
     },
     "execution_count": 26,
     "metadata": {},
     "output_type": "execute_result"
    }
   ],
   "source": [
    "# tells us the length of our odd numbers list from earlier\n",
    "len(odd_numbers)"
   ]
  },
  {
   "cell_type": "markdown",
   "id": "0fae0524",
   "metadata": {},
   "source": [
    "#### max() - this functions returns the highest value within a list"
   ]
  },
  {
   "cell_type": "code",
   "execution_count": 29,
   "id": "2657e9a6",
   "metadata": {},
   "outputs": [
    {
     "data": {
      "text/plain": [
       "[-3, 99, 500, -200, 490, -20, 33, 47, 588, 43, 190, 985]"
      ]
     },
     "execution_count": 29,
     "metadata": {},
     "output_type": "execute_result"
    }
   ],
   "source": [
    "#create a list\n",
    "list2=[-3,99,500,-200,490,-20,33,47,588,43,190,985]\n",
    "list2"
   ]
  },
  {
   "cell_type": "code",
   "execution_count": 30,
   "id": "140b803b",
   "metadata": {},
   "outputs": [
    {
     "name": "stdout",
     "output_type": "stream",
     "text": [
      "985\n"
     ]
    }
   ],
   "source": [
    "#use max function to find the highest value within this list, do this by assigning it to a variable then print the variable\n",
    "highest=max(list2)\n",
    "print(highest)\n",
    "#the highest calue will be 985"
   ]
  },
  {
   "cell_type": "markdown",
   "id": "0f017c62",
   "metadata": {},
   "source": [
    "* example 2"
   ]
  },
  {
   "cell_type": "code",
   "execution_count": 31,
   "id": "4680ea8b",
   "metadata": {},
   "outputs": [
    {
     "data": {
      "text/plain": [
       "[22, 33, 1, 22, 43, 55, 43, 22, 54, 78, 60, 60, 43, 43, 67, 43]"
      ]
     },
     "execution_count": 31,
     "metadata": {},
     "output_type": "execute_result"
    }
   ],
   "source": [
    "#use number1 list from earlier\n",
    "number1"
   ]
  },
  {
   "cell_type": "code",
   "execution_count": 32,
   "id": "7faee715",
   "metadata": {},
   "outputs": [
    {
     "name": "stdout",
     "output_type": "stream",
     "text": [
      "78\n"
     ]
    }
   ],
   "source": [
    "#use max function to find the highest value within this list, do this by assigning it to a variable then print the variable\n",
    "highest_value=max(number1)\n",
    "print(highest_value)\n",
    "#the highest value will be 78"
   ]
  },
  {
   "cell_type": "markdown",
   "id": "7ccf0591",
   "metadata": {},
   "source": [
    "#### min() - this function returns the lowest value within a list"
   ]
  },
  {
   "cell_type": "markdown",
   "id": "8c580339",
   "metadata": {},
   "source": [
    "* example 1"
   ]
  },
  {
   "cell_type": "code",
   "execution_count": 33,
   "id": "b8a21616",
   "metadata": {},
   "outputs": [
    {
     "data": {
      "text/plain": [
       "[22, 33, 1, 22, 43, 55, 43, 22, 54, 78, 60, 60, 43, 43, 67, 43]"
      ]
     },
     "execution_count": 33,
     "metadata": {},
     "output_type": "execute_result"
    }
   ],
   "source": [
    "#use number1 list from earlier\n",
    "number1"
   ]
  },
  {
   "cell_type": "code",
   "execution_count": 34,
   "id": "6faa7780",
   "metadata": {},
   "outputs": [
    {
     "name": "stdout",
     "output_type": "stream",
     "text": [
      "1\n"
     ]
    }
   ],
   "source": [
    "#use min function to find the lowest value within this list, do this by assigning it to a variable then print the variable\n",
    "lowest=min(number1)\n",
    "print(lowest)\n",
    "#the lowest value will be 1"
   ]
  },
  {
   "cell_type": "markdown",
   "id": "3da70069",
   "metadata": {},
   "source": [
    "* example 2"
   ]
  },
  {
   "cell_type": "code",
   "execution_count": 36,
   "id": "ce7b48cf",
   "metadata": {},
   "outputs": [
    {
     "data": {
      "text/plain": [
       "[-3, 99, 500, -200, 490, -20, 33, 47, 588, 43, 190, 985]"
      ]
     },
     "execution_count": 36,
     "metadata": {},
     "output_type": "execute_result"
    }
   ],
   "source": [
    "#use list2 function from earlier\n",
    "list2"
   ]
  },
  {
   "cell_type": "code",
   "execution_count": 38,
   "id": "acb31955",
   "metadata": {},
   "outputs": [
    {
     "name": "stdout",
     "output_type": "stream",
     "text": [
      "-200\n"
     ]
    }
   ],
   "source": [
    "#use min function to find the lowest value within this list, do this by assigning it to a variable then print the variable\n",
    "lowest_value=min(list2)\n",
    "print(lowest_value)\n",
    "#the lowest value will be -200"
   ]
  }
 ],
 "metadata": {
  "kernelspec": {
   "display_name": "Python 3 (ipykernel)",
   "language": "python",
   "name": "python3"
  },
  "language_info": {
   "codemirror_mode": {
    "name": "ipython",
    "version": 3
   },
   "file_extension": ".py",
   "mimetype": "text/x-python",
   "name": "python",
   "nbconvert_exporter": "python",
   "pygments_lexer": "ipython3",
   "version": "3.9.13"
  }
 },
 "nbformat": 4,
 "nbformat_minor": 5
}
